{
  "nbformat": 4,
  "nbformat_minor": 0,
  "metadata": {
    "colab": {
      "name": "TugasPenggantuUTS_Kelompok 5.ipynb",
      "provenance": [],
      "collapsed_sections": [],
      "authorship_tag": "ABX9TyO9KrmLRzdoqu9qXFG5O2qn",
      "include_colab_link": true
    },
    "kernelspec": {
      "name": "python3",
      "display_name": "Python 3"
    }
  },
  "cells": [
    {
      "cell_type": "markdown",
      "metadata": {
        "id": "view-in-github",
        "colab_type": "text"
      },
      "source": [
        "<a href=\"https://colab.research.google.com/github/AnggaJuliat/MachineLearning/blob/main/TugasPenggantuUTS_Kelompok_5.ipynb\" target=\"_parent\"><img src=\"https://colab.research.google.com/assets/colab-badge.svg\" alt=\"Open In Colab\"/></a>"
      ]
    },
    {
      "cell_type": "markdown",
      "metadata": {
        "id": "jRN3CdPB2FfI"
      },
      "source": [
        "Tugas Pengganti UTS\n",
        "Pembelajaran Secara Statistik dan Optimisasi\n",
        "\n",
        "Kelompok 5 :\n",
        "Eko Rahayu - 2101181004\n",
        "Aan Eko Setiawan -2101182032\n",
        "Angga Juliat - 2101181003\n"
      ]
    },
    {
      "cell_type": "markdown",
      "metadata": {
        "id": "pkKu-7ioscA0"
      },
      "source": [
        "Data yang digunakan adalah data mengenai Health Insurance Cross Sell Prediction\n",
        "\n",
        "Data ini ditujakan untuk perusahaan asuransi yang telah memberikan Asuransi Kesehatan kepada para pelanggannya. Namun saat ini dibutuhkan untuk membangun model untuk memprediksi apakah pemegang polis (pelanggan) tahun lalu juga akan tertarik dengan Asuransi Kendaraan yang disediakan oleh perusahaan tersebut.\n",
        "\n",
        "dalam membangun model untuk memprediksi apakah pelanggan akan tertarik dengan Asuransi Kendaraan yang dapat membantu perusahaan karena kemudian dapat merencanakan strategi komunikasinya untuk menjangkau pelanggan tersebut dan mengoptimalkan model bisnis dan pendapatannya.\n",
        "\n",
        "Sekarang, untuk memprediksi, apakah pelanggan akan tertarik dengan asuransi Kendaraan, Anda memiliki informasi tentang demografi (jenis kelamin, usia, jenis kode wilayah), Kendaraan (Usia Kendaraan, Kerusakan), Polis (Premium, saluran sumber) dll."
      ]
    },
    {
      "cell_type": "markdown",
      "metadata": {
        "id": "QG1lYiXI0jij"
      },
      "source": [
        "Data yang digunakan adalah\n",
        "1. data train\n",
        "2. data set\n",
        "\n",
        "di dalam data tersebut ada beberapa label, seperti\n",
        "\n",
        "**Data Description**\n",
        "**Train Data**\n",
        "\n",
        "1. id\tUnique ID for the customer\n",
        "2. Gender\tGender of the customer\n",
        "3. Age\tAge of the customer\n",
        "4. Driving_License\t0 : Customer does not have DL, 1 : Customer already has DL\n",
        "5. Region_Code\tUnique code for the region of the customer\n",
        "6. Previously_Insured\t1 : Customer already has Vehicle Insurance, 0 : Customer doesn't have Vehicle Insurance\n",
        "7. Vehicle_Age\tAge of the Vehicle\n",
        "8. Vehicle_Damage\t1 : Customer got his/her vehicle damaged in the past. 0 : Customer didn't get his/her vehicle damaged in the past.\n",
        "9. Annual_Premium\tThe amount customer needs to pay as premium in the year\n",
        "10. PolicySalesChannel\tAnonymized Code for the channel of outreaching to the customer ie. Different Agents, Over Mail, Over Phone, In Person, etc.\n",
        "11. Vintage\tNumber of Days, Customer has been associated with the company\n",
        "Response\t1 : Customer is interested, 0 : Customer is not interested\n",
        "\n"
      ]
    },
    {
      "cell_type": "markdown",
      "metadata": {
        "id": "QW1MPz3P1lGk"
      },
      "source": [
        "**Test Data**\n",
        "**Variable\tDefinition**\n",
        "1. id\tUnique ID for the customer\n",
        "2. Gender\tGender of the customer\n",
        "3. Age\tAge of the customer\n",
        "4. Driving_License\t0 : Customer does not have DL, 1 : Customer already has DL\n",
        "5. Region_Code\tUnique code for the region of the customer\n",
        "6. Previously_Insured\t1 : Customer already has Vehicle Insurance, 0 : Customer doesn't have Vehicle Insurance\n",
        "7. Vehicle_Age\tAge of the Vehicle\n",
        "8. Vehicle_Damage\t1 : Customer got his/her vehicle damaged in the past. 0 : Customer didn't get his/her vehicle damaged in the past.\n",
        "9. Annual_Premium\tThe amount customer needs to pay as premium in the year\n",
        "10. PolicySalesChannel\tAnonymised Code for the channel of outreaching to the customer ie. Different Agents, Over Mail, Over Phone, In Person, etc.\n",
        "Vintage\tNumber of Days, Customer has been associated with the company"
      ]
    },
    {
      "cell_type": "markdown",
      "metadata": {
        "id": "_MhzZT0r2tAF"
      },
      "source": [
        "Dataset Resource : \n",
        "1. https://kaggle.com\n",
        "2. https://www.kaggle.com/anmolkumar/health-insurance-cross-sell-prediction?select=test.csv"
      ]
    },
    {
      "cell_type": "markdown",
      "metadata": {
        "id": "WrGX0Rdz23Mx"
      },
      "source": [
        "Atribut yang digunakan untuk melakukan klasifikasi yaitu\n",
        "1. Policy_Sales_Channel \n",
        "2. Vintage\n",
        "3. Previously_Insured\n",
        "\n",
        "terhadap label Response"
      ]
    },
    {
      "cell_type": "code",
      "metadata": {
        "id": "dchPE8Ug1_b9"
      },
      "source": [
        "#upload data train\n",
        "from google.colab import files\n",
        "data_to_load = files.upload()"
      ],
      "execution_count": null,
      "outputs": []
    },
    {
      "cell_type": "code",
      "metadata": {
        "id": "MuDM9gQXzjVp"
      },
      "source": [
        "#upload data test\n",
        "from google.colab import files\n",
        "data_to_load2 = files.upload()"
      ],
      "execution_count": null,
      "outputs": []
    },
    {
      "cell_type": "code",
      "metadata": {
        "id": "2vTtIckOHi1r"
      },
      "source": [
        "print (data_to_load['train.csv'][:200].decode('utf-8') + '...')"
      ],
      "execution_count": null,
      "outputs": []
    },
    {
      "cell_type": "code",
      "metadata": {
        "id": "G_Oz0OKN3E4-"
      },
      "source": [
        "#import library\n",
        "import pandas as pd\n",
        "import io\n",
        "\n",
        "data_train = pd.read_csv(io.StringIO(data_to_load['train.csv'].decode('utf-8')))\n",
        "data_test = pd.read_csv(io.StringIO(data_to_load2['test.csv'].decode('utf-8')))\n",
        "\n",
        "print(data_train.columns.tolist())\n",
        "print(data_test.columns.tolist())"
      ],
      "execution_count": null,
      "outputs": []
    },
    {
      "cell_type": "markdown",
      "metadata": {
        "id": "YTxDSCXyt-8h"
      },
      "source": [
        "data train akan melakukan training untuk mengklasifikasikan response pelanggan berdasarkan nilai atau keterangan pada label Vehicle_Age, Vehicle_Damage, dan Previously_Damage"
      ]
    },
    {
      "cell_type": "code",
      "metadata": {
        "id": "IEXSaf1A9iyV"
      },
      "source": [
        "label_data_train = data_train['Response'].to_numpy()\n",
        "\n",
        "train_data = data_train[['Policy_Sales_Channel','Vintage','Previously_Insured']]\n",
        "\n",
        "print (train_data)"
      ],
      "execution_count": null,
      "outputs": []
    },
    {
      "cell_type": "markdown",
      "metadata": {
        "id": "pJoZsBL3u9hQ"
      },
      "source": [
        "selanjutnya membagi data train menjadi 2, yaitu terdiri dari :\n",
        "1. data train\n",
        "2. data test "
      ]
    },
    {
      "cell_type": "code",
      "metadata": {
        "id": "_9aSvXuB-t4R"
      },
      "source": [
        "from sklearn.model_selection import train_test_split\n",
        "\n",
        "X_train, X_test, Y_train, Y_test = train_test_split(train_data, label_data_train, random_state=0) "
      ],
      "execution_count": null,
      "outputs": []
    },
    {
      "cell_type": "markdown",
      "metadata": {
        "id": "ce0aI_gJvzka"
      },
      "source": [
        "Training set digunakan untuk meembuat model menggunakan metode SVM"
      ]
    },
    {
      "cell_type": "code",
      "metadata": {
        "id": "yZzRQG_Q_NQn"
      },
      "source": [
        "from sklearn.svm import LinearSVC\n",
        "\n",
        "svc = LinearSVC()\n",
        "svc.fit(X_train, Y_train)\n",
        "\n",
        "\n",
        "Y_prediction = svc.predict(X_test)\n"
      ],
      "execution_count": null,
      "outputs": []
    },
    {
      "cell_type": "markdown",
      "metadata": {
        "id": "R4PbRAGA42hZ"
      },
      "source": [
        "menghitung nilai akurasi pada data train menggunakan library sklearn"
      ]
    },
    {
      "cell_type": "code",
      "metadata": {
        "id": "xuJPmwfyq5XW",
        "outputId": "abdc219e-eb2a-4068-b0d0-6b9530a4f1df",
        "colab": {
          "base_uri": "https://localhost:8080/"
        }
      },
      "source": [
        "from sklearn.metrics import confusion_matrix\n",
        "\n",
        "tn, fn, tp, fp = confusion_matrix(Y_test, Y_prediction).ravel()\n",
        "akurasi = (tn + tp) / (tn+fn+fp+tp)\n",
        "\n",
        "print(akurasi)"
      ],
      "execution_count": null,
      "outputs": [
        {
          "output_type": "stream",
          "text": [
            "0.9816117046957324\n"
          ],
          "name": "stdout"
        }
      ]
    },
    {
      "cell_type": "markdown",
      "metadata": {
        "id": "SrX8O_Zsr_vJ"
      },
      "source": [
        "Melakukan testing pada data train yang sudah dilakukan proses split data"
      ]
    },
    {
      "cell_type": "code",
      "metadata": {
        "id": "vnkEGgbgsGE6"
      },
      "source": [
        "tes_data = data_test[['Policy_Sales_Channel','Vintage','Previously_Insured']]\n",
        "\n",
        "Y_prediction_test = svc.predict(tes_data)\n",
        "print(Y_prediction_test)"
      ],
      "execution_count": null,
      "outputs": []
    },
    {
      "cell_type": "markdown",
      "metadata": {
        "id": "Gu-fIjFL400x"
      },
      "source": [
        "Source :\n",
        "https://www.youtube.com/watch?v=O0JiPhjv5U8&t=903s\n",
        "https://www.youtube.com/watch?v=e-FoUNAp7kQ&t=10s"
      ]
    }
  ]
}